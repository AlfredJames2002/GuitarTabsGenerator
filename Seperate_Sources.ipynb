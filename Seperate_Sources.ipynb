{
 "cells": [
  {
   "cell_type": "code",
   "execution_count": 1,
   "id": "f2964b59-424f-4ff1-804a-fd33ad6c477f",
   "metadata": {},
   "outputs": [
    {
     "name": "stdin",
     "output_type": "stream",
     "text": [
      "Enter the path to your MP3 file:  C:\\\\Users\\\\17138\\\\Downloads\\\\A Thousand Miles.mp3\n"
     ]
    },
    {
     "name": "stdout",
     "output_type": "stream",
     "text": [
      "File path is valid. hold on a minute\n",
      "Separation completed successfully.\n"
     ]
    }
   ],
   "source": [
    "import subprocess\n",
    "import os\n",
    "\n",
    "def validate_file_path(file_path):\n",
    "    \n",
    "    #Check if the file path is valid and if the file exists.\n",
    "    if not os.path.isfile(file_path):\n",
    "        print(f\"Error: The file '{file_path}' does not exist.\")\n",
    "        return False\n",
    "    elif not file_path.lower().endswith('.mp3'):\n",
    "        print(\"Error: The file is not an MP3. Please provide a valid MP3 file.\")\n",
    "        return False\n",
    "    print(\"File path is valid. hold on a minute\")\n",
    "    return True\n",
    "\n",
    "def run_demucs(input_file):\n",
    "    \n",
    "    #Run Demucs to isolate stems from the provided MP3 file.\n",
    "    try:\n",
    "        command = [\"demucs\", input_file]\n",
    "        subprocess.run(command, check=True)\n",
    "        print(\"Separation completed successfully.\")\n",
    "    except subprocess.CalledProcessError:\n",
    "        print(\"Error: Demucs encountered an issue. Please ensure Demucs is installed correctly.\")\n",
    "        return False\n",
    "    return True\n",
    "\n",
    "def main():\n",
    "    # Get user input for the MP3 file path using a raw string\n",
    "    input_file = input(r\"Enter the path to your MP3 file: \")\n",
    "\n",
    "    # Validate the file path\n",
    "    if not validate_file_path(input_file):\n",
    "        return\n",
    "\n",
    "    # Run Demucs to separate audio stems\n",
    "    if not run_demucs(input_file):\n",
    "        return\n",
    "\n",
    "if __name__ == \"__main__\":\n",
    "    main()\n"
   ]
  }
 ],
 "metadata": {
  "kernelspec": {
   "display_name": "Python (guitar_tabs)",
   "language": "python",
   "name": "guitar_tabs"
  },
  "language_info": {
   "codemirror_mode": {
    "name": "ipython",
    "version": 3
   },
   "file_extension": ".py",
   "mimetype": "text/x-python",
   "name": "python",
   "nbconvert_exporter": "python",
   "pygments_lexer": "ipython3",
   "version": "3.12.5"
  }
 },
 "nbformat": 4,
 "nbformat_minor": 5
}
